{
  "nbformat": 4,
  "nbformat_minor": 0,
  "metadata": {
    "colab": {
      "name": "datavis1.ipynb",
      "version": "0.3.2",
      "provenance": [],
      "include_colab_link": true
    },
    "kernelspec": {
      "name": "python3",
      "display_name": "Python 3"
    }
  },
  "cells": [
    {
      "cell_type": "markdown",
      "metadata": {
        "id": "view-in-github",
        "colab_type": "text"
      },
      "source": [
        "<a href=\"https://colab.research.google.com/github/harshmangal1108/specialization/blob/master/datavis1.ipynb\" target=\"_parent\"><img src=\"https://colab.research.google.com/assets/colab-badge.svg\" alt=\"Open In Colab\"/></a>"
      ]
    },
    {
      "cell_type": "code",
      "metadata": {
        "id": "uOeraYbSJgmo",
        "colab_type": "code",
        "colab": {}
      },
      "source": [
        "import matplotlib.pyplot as mp\n",
        "import pandas as pd\n",
        "\n",
        "data=pd.read_csv(\"student.csv\")"
      ],
      "execution_count": 0,
      "outputs": []
    },
    {
      "cell_type": "code",
      "metadata": {
        "id": "ENTUfyb2J5sp",
        "colab_type": "code",
        "colab": {}
      },
      "source": [
        "name=data['student_name']\n",
        "marks=data['marks']\n",
        "study=data['std_hours']"
      ],
      "execution_count": 0,
      "outputs": []
    },
    {
      "cell_type": "code",
      "metadata": {
        "id": "xeQMFNNLK26h",
        "colab_type": "code",
        "colab": {
          "base_uri": "https://localhost:8080/",
          "height": 558
        },
        "outputId": "5bba4024-55bd-4407-a1a0-458f086cf394"
      },
      "source": [
        "mp.pie(marks,labels=name,shadow=True,autopct='%1.1f')"
      ],
      "execution_count": 20,
      "outputs": [
        {
          "output_type": "execute_result",
          "data": {
            "text/plain": [
              "([<matplotlib.patches.Wedge at 0x7f0ac8279f28>,\n",
              "  <matplotlib.patches.Wedge at 0x7f0ac8279160>,\n",
              "  <matplotlib.patches.Wedge at 0x7f0ac56888d0>,\n",
              "  <matplotlib.patches.Wedge at 0x7f0ac85572b0>,\n",
              "  <matplotlib.patches.Wedge at 0x7f0ac8557c50>,\n",
              "  <matplotlib.patches.Wedge at 0x7f0ac8285630>],\n",
              " [Text(0.9670787630479654, 0.5241742706978447, 'Robin Hood'),\n",
              "  Text(0.054613946632298106, 1.0986433983933297, 'Arsene Wenger'),\n",
              "  Text(-0.9326919993570657, 0.5831686156981696, 'Friar Tuck'),\n",
              "  Text(-0.9468857884032316, -0.5598279233121465, 'Little John'),\n",
              "  Text(0.02048737862235813, -1.0998091958686218, 'Sam Allardyce'),\n",
              "  Text(0.9503432257219646, -0.5539384021029515, 'Dimi Berbatov')],\n",
              " [Text(0.527497507117072, 0.28591323856246076, '15.8'),\n",
              "  Text(0.029789425435798964, 0.5992600354872707, '16.8'),\n",
              "  Text(-0.5087410905583994, 0.3180919721990016, '17.0'),\n",
              "  Text(-0.5164831573108536, -0.30536068544298894, '17.8'),\n",
              "  Text(0.011174933794013525, -0.5998959250192482, '15.8'),\n",
              "  Text(0.5183690322119806, -0.3021482193288826, '16.8')])"
            ]
          },
          "metadata": {
            "tags": []
          },
          "execution_count": 20
        },
        {
          "output_type": "display_data",
          "data": {
            "image/png": "[encoded data removed]",
            "text/plain": [
              "<Figure size 432x288 with 1 Axes>"
            ]
          },
          "metadata": {
            "tags": []
          }
        }
      ]
    },
    {
      "cell_type": "code",
      "metadata": {
        "id": "VWiKnxV9L0Fw",
        "colab_type": "code",
        "colab": {}
      },
      "source": [
        ""
      ],
      "execution_count": 0,
      "outputs": []
    }
  ]
}