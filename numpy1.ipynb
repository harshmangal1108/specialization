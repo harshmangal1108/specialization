{
  "nbformat": 4,
  "nbformat_minor": 0,
  "metadata": {
    "colab": {
      "name": "numpy1.ipynb",
      "version": "0.3.2",
      "provenance": [],
      "include_colab_link": true
    },
    "kernelspec": {
      "name": "python3",
      "display_name": "Python 3"
    }
  },
  "cells": [
    {
      "cell_type": "markdown",
      "metadata": {
        "id": "view-in-github",
        "colab_type": "text"
      },
      "source": [
        "<a href=\"https://colab.research.google.com/github/harshmangal1108/specialization/blob/master/numpy1.ipynb\" target=\"_parent\"><img src=\"https://colab.research.google.com/assets/colab-badge.svg\" alt=\"Open In Colab\"/></a>"
      ]
    },
    {
      "cell_type": "markdown",
      "metadata": {
        "id": "RR4IZhoD_5Au",
        "colab_type": "text"
      },
      "source": [
        "#Create 2D numpy  based array with given conditions:\n",
        "\n",
        "i)   take input from user in terms of dimension like (3x2 or 6x7)\n",
        "  ii)   fill this numpy array with random number\n",
        "   iii)  store this array in a file\n"
      ]
    },
    {
      "cell_type": "code",
      "metadata": {
        "id": "B-V6OgFf7ygg",
        "colab_type": "code",
        "colab": {
          "base_uri": "https://localhost:8080/",
          "height": 101
        },
        "outputId": "5e5d81d4-25f5-4069-9ca3-ba020ccfacd8"
      },
      "source": [
        "import numpy as np\n",
        "m=int(input(\"any integer\"))\n",
        "n=int(input(\"any integer\"))\n",
        "arr=np.random.rand(m,n)\n",
        "file=open(\"random.txt\",\"w\")\n",
        "file.write(str(arr))\n",
        "file.close()\n",
        "\n",
        "\n",
        "file=open(\"random.txt\",\"r\")\n",
        "content=file.read()\n",
        "print(content)\n",
        "file.close()"
      ],
      "execution_count": 11,
      "outputs": [
        {
          "output_type": "stream",
          "text": [
            "any integer3\n",
            "any integer2\n",
            "[[0.27946787 0.8038243 ]\n",
            " [0.60729592 0.33611008]\n",
            " [0.97746119 0.42563902]]\n"
          ],
          "name": "stdout"
        }
      ]
    },
    {
      "cell_type": "code",
      "metadata": {
        "id": "9omHZv8_-Pnc",
        "colab_type": "code",
        "colab": {}
      },
      "source": [
        ""
      ],
      "execution_count": 0,
      "outputs": []
    }
  ]
}