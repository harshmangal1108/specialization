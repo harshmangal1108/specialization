{
  "nbformat": 4,
  "nbformat_minor": 0,
  "metadata": {
    "colab": {
      "name": "sentiment_analysis_twitter.ipynb",
      "version": "0.3.2",
      "provenance": [],
      "collapsed_sections": [],
      "include_colab_link": true
    },
    "kernelspec": {
      "name": "python3",
      "display_name": "Python 3"
    }
  },
  "cells": [
    {
      "cell_type": "markdown",
      "metadata": {
        "id": "view-in-github",
        "colab_type": "text"
      },
      "source": [
        "<a href=\"https://colab.research.google.com/github/harshmangal1108/specialization/blob/data_processing/sentiment_analysis_twitter.ipynb\" target=\"_parent\"><img src=\"https://colab.research.google.com/assets/colab-badge.svg\" alt=\"Open In Colab\"/></a>"
      ]
    },
    {
      "cell_type": "code",
      "metadata": {
        "id": "Ww1G9I2ZK-iN",
        "colab_type": "code",
        "colab": {}
      },
      "source": [
        "## !PIP3 INSTALL TWEEPY\n",
        "import tweepy\n",
        "import matplotlib.pyplot as plt\n",
        "from textblob import TextBlob\n",
        "\n"
      ],
      "execution_count": 0,
      "outputs": []
    },
    {
      "cell_type": "code",
      "metadata": {
        "id": "VzLCy1z8LfXC",
        "colab_type": "code",
        "colab": {}
      },
      "source": [
        "### DEFINE ALL FOUR AUTHENTICATION KEYS TO ACCESS TWITTER API\n",
        " # TO CONNECT AS  Oauth HANDLER OR JUMP SERVER/PROXY SERVER\n",
        "consumer_key=\"********\"\n",
        "consumer_sec=\"********\"\n",
        "## from proxy server we need to connect to web server of twitter\n",
        "access_token=\"************\"\n",
        "access_sec=\"**********\""
      ],
      "execution_count": 0,
      "outputs": []
    },
    {
      "cell_type": "code",
      "metadata": {
        "id": "PQeptKFvNAwN",
        "colab_type": "code",
        "colab": {}
      },
      "source": [
        "### tweepy explore\n",
        "#dir(tweepy)\n",
        "# connect to jump server of twitter \n",
        "auth=tweepy.OAuthHandler(consumer_key,consumer_sec)"
      ],
      "execution_count": 0,
      "outputs": []
    },
    {
      "cell_type": "code",
      "metadata": {
        "id": "-EfDxCNlOgKI",
        "colab_type": "code",
        "colab": {}
      },
      "source": [
        "## connecting to web server from jump server\n",
        "auth.set_access_token(access_token,access_sec)"
      ],
      "execution_count": 0,
      "outputs": []
    },
    {
      "cell_type": "code",
      "metadata": {
        "id": "pPZoSbhaPQEG",
        "colab_type": "code",
        "colab": {}
      },
      "source": [
        "## now we can connect to API STORAGE OF TWITTER \n",
        "api_connect=tweepy.API(auth)"
      ],
      "execution_count": 0,
      "outputs": []
    },
    {
      "cell_type": "code",
      "metadata": {
        "id": "0SgsqrTxPkio",
        "colab_type": "code",
        "colab": {}
      },
      "source": [
        "### now you can search for any topic on twitter \n",
        "tweet_data=api_connect.search('indain budget',count=20)"
      ],
      "execution_count": 0,
      "outputs": []
    },
    {
      "cell_type": "code",
      "metadata": {
        "id": "tRdUvqLSP7Zl",
        "colab_type": "code",
        "colab": {
          "base_uri": "https://localhost:8080/",
          "height": 691
        },
        "outputId": "84cbfb84-c2a4-474d-e28f-ed21dfdcf209"
      },
      "source": [
        "pos=0\n",
        "neg=0\n",
        "neu=0\n",
        "## printing line by  line\n",
        "for tweet in tweet_data:\n",
        "  # print(tweet.text)\n",
        "  analysis=TextBlob(tweet.text)  # here it will apply NLP\n",
        "  print(analysis.sentiment)\n",
        "  print(\"-----------\")\n",
        "  ## now checking polarity only \n",
        "  if analysis.sentiment.polarity >0:\n",
        "    print(\"++ positive sentiment ++\")\n",
        "    pos=pos+1\n",
        "  elif  analysis.sentiment.polarity ==0:\n",
        "    print(\"00 neutral sentiment 00\")\n",
        "    neu=neu+1\n",
        "  else : \n",
        "    print(\" -- negetive sentiment -- \")\n",
        "    neg=neg+1"
      ],
      "execution_count": 46,
      "outputs": [
        {
          "output_type": "stream",
          "text": [
            "Sentiment(polarity=0.15000000000000002, subjectivity=0.18333333333333335)\n",
            "-----------\n",
            "++ positive sentiment ++\n",
            "Sentiment(polarity=0.15000000000000002, subjectivity=0.18333333333333335)\n",
            "-----------\n",
            "++ positive sentiment ++\n",
            "Sentiment(polarity=0.15000000000000002, subjectivity=0.18333333333333335)\n",
            "-----------\n",
            "++ positive sentiment ++\n",
            "Sentiment(polarity=0.15000000000000002, subjectivity=0.18333333333333335)\n",
            "-----------\n",
            "++ positive sentiment ++\n",
            "Sentiment(polarity=0.15000000000000002, subjectivity=0.18333333333333335)\n",
            "-----------\n",
            "++ positive sentiment ++\n",
            "Sentiment(polarity=0.15000000000000002, subjectivity=0.18333333333333335)\n",
            "-----------\n",
            "++ positive sentiment ++\n",
            "Sentiment(polarity=0.15000000000000002, subjectivity=0.18333333333333335)\n",
            "-----------\n",
            "++ positive sentiment ++\n",
            "Sentiment(polarity=0.15000000000000002, subjectivity=0.18333333333333335)\n",
            "-----------\n",
            "++ positive sentiment ++\n",
            "Sentiment(polarity=0.15000000000000002, subjectivity=0.18333333333333335)\n",
            "-----------\n",
            "++ positive sentiment ++\n",
            "Sentiment(polarity=0.15000000000000002, subjectivity=0.18333333333333335)\n",
            "-----------\n",
            "++ positive sentiment ++\n",
            "Sentiment(polarity=0.15000000000000002, subjectivity=0.18333333333333335)\n",
            "-----------\n",
            "++ positive sentiment ++\n",
            "Sentiment(polarity=0.15000000000000002, subjectivity=0.18333333333333335)\n",
            "-----------\n",
            "++ positive sentiment ++\n",
            "Sentiment(polarity=0.15000000000000002, subjectivity=0.18333333333333335)\n",
            "-----------\n",
            "++ positive sentiment ++\n"
          ],
          "name": "stdout"
        }
      ]
    },
    {
      "cell_type": "code",
      "metadata": {
        "id": "8L6-UcPgRcPe",
        "colab_type": "code",
        "colab": {
          "base_uri": "https://localhost:8080/",
          "height": 663
        },
        "outputId": "777c0e32-6f09-4421-8fe8-d24a90e7f650"
      },
      "source": [
        "## ploting graphs\n",
        "plt.xlabel=(\"tags\")\n",
        "plt.ylabel=(\"polarity\")\n",
        "plt.bar([\"positive\",\"negetive\",\"neutral\"],[pos,neg,neu])\n",
        "plt.show()\n",
        "plt.pie([pos,neg,neu],labels=[\"positive\",\"negetive\",\"neutral\"],autopct=\"%1.1f%%\")"
      ],
      "execution_count": 47,
      "outputs": [
        {
          "output_type": "display_data",
          "data": {
            "image/png": "[encoded data removed]",
            "text/plain": [
              "<Figure size 432x288 with 1 Axes>"
            ]
          },
          "metadata": {
            "tags": []
          }
        },
        {
          "output_type": "execute_result",
          "data": {
            "text/plain": [
              "([<matplotlib.patches.Wedge at 0x7f89efa694a8>,\n",
              "  <matplotlib.patches.Wedge at 0x7f89efa64b00>,\n",
              "  <matplotlib.patches.Wedge at 0x7f89efa64400>],\n",
              " [Text(-1.1, 1.3471114790620887e-16, 'positive'),\n",
              "  Text(1.1, -2.6942229581241775e-16, 'negetive'),\n",
              "  Text(1.1, -2.6942229581241775e-16, 'neutral')],\n",
              " [Text(-0.6, 7.347880794884119e-17, '100.0%'),\n",
              "  Text(0.6, -1.4695761589768238e-16, '0.0%'),\n",
              "  Text(0.6, -1.4695761589768238e-16, '0.0%')])"
            ]
          },
          "metadata": {
            "tags": []
          },
          "execution_count": 47
        },
        {
          "output_type": "display_data",
          "data": {
            "image/png": "[encoded data removed]",
            "text/plain": [
              "<Figure size 432x288 with 1 Axes>"
            ]
          },
          "metadata": {
            "tags": []
          }
        }
      ]
    },
    {
      "cell_type": "code",
      "metadata": {
        "id": "XCFhRzzLTvCc",
        "colab_type": "code",
        "colab": {}
      },
      "source": [
        ""
      ],
      "execution_count": 0,
      "outputs": []
    }
  ]
}