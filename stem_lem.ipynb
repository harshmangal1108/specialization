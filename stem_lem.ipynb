{
  "nbformat": 4,
  "nbformat_minor": 0,
  "metadata": {
    "colab": {
      "name": "stem_lem.ipynb",
      "version": "0.3.2",
      "provenance": [],
      "include_colab_link": true
    },
    "kernelspec": {
      "name": "python3",
      "display_name": "Python 3"
    }
  },
  "cells": [
    {
      "cell_type": "markdown",
      "metadata": {
        "id": "view-in-github",
        "colab_type": "text"
      },
      "source": [
        "<a href=\"https://colab.research.google.com/github/harshmangal1108/specialization/blob/data_processing/stem_lem.ipynb\" target=\"_parent\"><img src=\"https://colab.research.google.com/assets/colab-badge.svg\" alt=\"Open In Colab\"/></a>"
      ]
    },
    {
      "cell_type": "code",
      "metadata": {
        "id": "VsXIXPjudoJb",
        "colab_type": "code",
        "colab": {}
      },
      "source": [
        "from nltk import stem\n",
        "from nltk.stem import PorterStemmer  # FOR stemming\n",
        "from nltk.stem import WordNetLemmatizer   # FOR lemmatization"
      ],
      "execution_count": 0,
      "outputs": []
    },
    {
      "cell_type": "code",
      "metadata": {
        "id": "9rwPrYUeeIjq",
        "colab_type": "code",
        "colab": {}
      },
      "source": [
        "## STEMMING \n",
        "stemp=PorterStemmer()\n"
      ],
      "execution_count": 0,
      "outputs": []
    },
    {
      "cell_type": "code",
      "metadata": {
        "id": "VxqqpLzBeRi9",
        "colab_type": "code",
        "outputId": "0b40f690-3c8a-45e2-dc4a-3b3472a0f7ca",
        "colab": {
          "base_uri": "https://localhost:8080/",
          "height": 34
        }
      },
      "source": [
        "stemp.stem('going')   #word giving to find stem"
      ],
      "execution_count": 0,
      "outputs": [
        {
          "output_type": "execute_result",
          "data": {
            "text/plain": [
              "'go'"
            ]
          },
          "metadata": {
            "tags": []
          },
          "execution_count": 13
        }
      ]
    },
    {
      "cell_type": "code",
      "metadata": {
        "id": "dhb96Ht5eXz1",
        "colab_type": "code",
        "outputId": "350278cb-b1a0-4425-c401-e8699da2780f",
        "colab": {
          "base_uri": "https://localhost:8080/",
          "height": 190
        }
      },
      "source": [
        "for i in ['going','goes','go', 'intelligent','intelligence','intelligently','feet','foot','cars','caring']:\n",
        "  print(stemp.stem(i))"
      ],
      "execution_count": 0,
      "outputs": [
        {
          "output_type": "stream",
          "text": [
            "go\n",
            "goe\n",
            "go\n",
            "intellig\n",
            "intellig\n",
            "intellig\n",
            "feet\n",
            "foot\n",
            "car\n",
            "care\n"
          ],
          "name": "stdout"
        }
      ]
    },
    {
      "cell_type": "code",
      "metadata": {
        "id": "kwTND__3fh5F",
        "colab_type": "code",
        "colab": {}
      },
      "source": [
        ""
      ],
      "execution_count": 0,
      "outputs": []
    }
  ]
}