{
  "nbformat": 4,
  "nbformat_minor": 0,
  "metadata": {
    "colab": {
      "name": "tokenisation.ipynb",
      "version": "0.3.2",
      "provenance": [],
      "include_colab_link": true
    },
    "kernelspec": {
      "name": "python3",
      "display_name": "Python 3"
    }
  },
  "cells": [
    {
      "cell_type": "markdown",
      "metadata": {
        "id": "view-in-github",
        "colab_type": "text"
      },
      "source": [
        "<a href=\"https://colab.research.google.com/github/harshmangal1108/specialization/blob/data_processing/tokenisation.ipynb\" target=\"_parent\"><img src=\"https://colab.research.google.com/assets/colab-badge.svg\" alt=\"Open In Colab\"/></a>"
      ]
    },
    {
      "cell_type": "code",
      "metadata": {
        "id": "6idjXFNUQSzz",
        "colab_type": "code",
        "colab": {}
      },
      "source": [
        "msg='''Punctuation is essential to make writing easy to understand. When used correctly, it shows the reader when sentences start and finish and what part of the sentence contains the most important information. Punctuation that is used incorrectly or sloppily, however, can confuse meaning.'''"
      ],
      "execution_count": 0,
      "outputs": []
    },
    {
      "cell_type": "code",
      "metadata": {
        "id": "urWIuyjXXTPJ",
        "colab_type": "code",
        "outputId": "c8983a0a-0190-4a0b-c924-34f88f26ce65",
        "colab": {
          "base_uri": "https://localhost:8080/",
          "height": 52
        }
      },
      "source": [
        "##  IMPORT TOKENIZER\n",
        "import nltk\n",
        "nltk.download('punkt')\n",
        "from nltk.tokenize import sent_tokenize\n",
        "from nltk.tokenize import word_tokenize\n"
      ],
      "execution_count": 0,
      "outputs": [
        {
          "output_type": "stream",
          "text": [
            "[nltk_data] Downloading package punkt to /root/nltk_data...\n",
            "[nltk_data]   Package punkt is already up-to-date!\n"
          ],
          "name": "stdout"
        }
      ]
    },
    {
      "cell_type": "code",
      "metadata": {
        "id": "XngoyZSTXoSp",
        "colab_type": "code",
        "colab": {}
      },
      "source": [
        "## SENTENCE TOKENIZE\n",
        "sentt=sent_tokenize(msg)"
      ],
      "execution_count": 0,
      "outputs": []
    },
    {
      "cell_type": "code",
      "metadata": {
        "id": "oTMuizUwXzbW",
        "colab_type": "code",
        "outputId": "48fb1ce5-6480-4060-bd55-5ddbcda4eed7",
        "colab": {
          "base_uri": "https://localhost:8080/",
          "height": 89
        }
      },
      "source": [
        "sentt"
      ],
      "execution_count": 0,
      "outputs": [
        {
          "output_type": "execute_result",
          "data": {
            "text/plain": [
              "['Punctuation is essential to make writing easy to understand.',\n",
              " 'When used correctly, it shows the reader when sentences start and finish and what part of the sentence contains the most important information.',\n",
              " 'Punctuation that is used incorrectly or sloppily, however, can confuse meaning.']"
            ]
          },
          "metadata": {
            "tags": []
          },
          "execution_count": 23
        }
      ]
    },
    {
      "cell_type": "code",
      "metadata": {
        "id": "fPa7vQ1sYIyC",
        "colab_type": "code",
        "outputId": "2439723c-74ba-4903-b311-2b6f343ee035",
        "colab": {
          "base_uri": "https://localhost:8080/",
          "height": 34
        }
      },
      "source": [
        "len(sentt)   # NO. OF SENTENCES FOUND"
      ],
      "execution_count": 0,
      "outputs": [
        {
          "output_type": "execute_result",
          "data": {
            "text/plain": [
              "3"
            ]
          },
          "metadata": {
            "tags": []
          },
          "execution_count": 24
        }
      ]
    },
    {
      "cell_type": "code",
      "metadata": {
        "id": "_wmv0Y3tYNI8",
        "colab_type": "code",
        "outputId": "22ad3994-e7c0-4a8f-a6b2-788e180833b8",
        "colab": {
          "base_uri": "https://localhost:8080/",
          "height": 864
        }
      },
      "source": [
        "###  WORD TOKENIZER\n",
        "word=word_tokenize(msg)\n",
        "word"
      ],
      "execution_count": 0,
      "outputs": [
        {
          "output_type": "execute_result",
          "data": {
            "text/plain": [
              "['Punctuation',\n",
              " 'is',\n",
              " 'essential',\n",
              " 'to',\n",
              " 'make',\n",
              " 'writing',\n",
              " 'easy',\n",
              " 'to',\n",
              " 'understand',\n",
              " '.',\n",
              " 'When',\n",
              " 'used',\n",
              " 'correctly',\n",
              " ',',\n",
              " 'it',\n",
              " 'shows',\n",
              " 'the',\n",
              " 'reader',\n",
              " 'when',\n",
              " 'sentences',\n",
              " 'start',\n",
              " 'and',\n",
              " 'finish',\n",
              " 'and',\n",
              " 'what',\n",
              " 'part',\n",
              " 'of',\n",
              " 'the',\n",
              " 'sentence',\n",
              " 'contains',\n",
              " 'the',\n",
              " 'most',\n",
              " 'important',\n",
              " 'information',\n",
              " '.',\n",
              " 'Punctuation',\n",
              " 'that',\n",
              " 'is',\n",
              " 'used',\n",
              " 'incorrectly',\n",
              " 'or',\n",
              " 'sloppily',\n",
              " ',',\n",
              " 'however',\n",
              " ',',\n",
              " 'can',\n",
              " 'confuse',\n",
              " 'meaning',\n",
              " '.']"
            ]
          },
          "metadata": {
            "tags": []
          },
          "execution_count": 25
        }
      ]
    },
    {
      "cell_type": "code",
      "metadata": {
        "id": "XGHB2nkfYhyG",
        "colab_type": "code",
        "outputId": "0e8da34d-97f3-4810-cc16-e55941bf1e96",
        "colab": {
          "base_uri": "https://localhost:8080/",
          "height": 34
        }
      },
      "source": [
        "len(word)"
      ],
      "execution_count": 0,
      "outputs": [
        {
          "output_type": "execute_result",
          "data": {
            "text/plain": [
              "49"
            ]
          },
          "metadata": {
            "tags": []
          },
          "execution_count": 26
        }
      ]
    },
    {
      "cell_type": "code",
      "metadata": {
        "id": "D-gjOaAlYjfV",
        "colab_type": "code",
        "colab": {}
      },
      "source": [
        "from nltk.corpus import stopwords\n",
        "## STOPWORD REMOVER\n",
        "## REMOVE STOP WORDS\n",
        "rem=[i for i in word if i.lower() not in stopwords.words('english')]"
      ],
      "execution_count": 0,
      "outputs": []
    },
    {
      "cell_type": "code",
      "metadata": {
        "id": "D9WGOv1EY-kS",
        "colab_type": "code",
        "outputId": "e1717210-ba29-462c-a5fc-98ffbc4dee68",
        "colab": {
          "base_uri": "https://localhost:8080/",
          "height": 34
        }
      },
      "source": [
        "len(rem)"
      ],
      "execution_count": 0,
      "outputs": [
        {
          "output_type": "execute_result",
          "data": {
            "text/plain": [
              "31"
            ]
          },
          "metadata": {
            "tags": []
          },
          "execution_count": 28
        }
      ]
    },
    {
      "cell_type": "code",
      "metadata": {
        "id": "Z5W-uracZI6d",
        "colab_type": "code",
        "outputId": "a838499d-6634-4382-92b8-8d74b7c36293",
        "colab": {
          "base_uri": "https://localhost:8080/",
          "height": 333
        }
      },
      "source": [
        "## FREQUENCY PLOT OF NLTK  FOR without STOPWORD\n",
        "import matplotlib.pyplot as plt\n",
        "nlp=nltk.FreqDist(word)\n",
        "nlp.plot()"
      ],
      "execution_count": 0,
      "outputs": [
        {
          "output_type": "display_data",
          "data": {
            "image/png": "[encoded data removed]",
            "text/plain": [
              "<Figure size 432x288 with 1 Axes>"
            ]
          },
          "metadata": {
            "tags": []
          }
        }
      ]
    },
    {
      "cell_type": "code",
      "metadata": {
        "id": "1JRn6joaZfr6",
        "colab_type": "code",
        "outputId": "e3a8859a-3b12-4501-cdd4-b9de1fa4a327",
        "colab": {
          "base_uri": "https://localhost:8080/",
          "height": 333
        }
      },
      "source": [
        "## FREQUENCY PLOT OF NLTK  FOR with STOPWORD\n",
        "import matplotlib.pyplot as plt\n",
        "nlp=nltk.FreqDist(rem)\n",
        "nlp.plot()"
      ],
      "execution_count": 0,
      "outputs": [
        {
          "output_type": "display_data",
          "data": {
            "image/png": "[encoded data removed]",
            "text/plain": [
              "<Figure size 432x288 with 1 Axes>"
            ]
          },
          "metadata": {
            "tags": []
          }
        }
      ]
    },
    {
      "cell_type": "code",
      "metadata": {
        "id": "_OMlNRV5ZvBq",
        "colab_type": "code",
        "colab": {}
      },
      "source": [
        ""
      ],
      "execution_count": 0,
      "outputs": []
    }
  ]
}